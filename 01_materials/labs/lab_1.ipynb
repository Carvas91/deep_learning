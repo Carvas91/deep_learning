{
  "cells": [
    {
      "cell_type": "markdown",
      "metadata": {
        "id": "Z7vgnw-vRstH"
      },
      "source": [
        "# Training Neural Networks with Keras\n",
        "\n",
        "Welcome to the first practical session of the course! In this session, we will learn how to train neural networks with Keras. We will start with a simple example of a feedforward neural network for classification and then we will study the impact of the initialization of the weights on the convergence of the training algorithm.\n",
        "\n",
        "Keras is a high-level neural network API, built on top of TensorFlow 2.0. It provides a user-friendly interface to build, train and deploy deep learning models. Keras is designed to be modular, fast and easy to use.\n",
        "\n",
        "Throughout this course, we will focus on using Keras and TensorFlow for building and training neural networks. However, there are other popular deep learning frameworks such as PyTorch, MXNet, CNTK, etc. that you can also use to build and train neural networks.\n",
        "\n",
        "In order to use our code on Google Colab, we will need to ensure that any required packages are installed. We will use the following packages in this session:\n",
        "\n",
        "- `tensorflow`: an open-source library for numerical computation and large-scale machine learning.\n",
        "- `matplotlib`: a plotting library for the Python programming language and its numerical mathematics extension NumPy.\n",
        "- `numpy`: a library for scientific computing in Python.\n",
        "- `scikit-learn`: a machine learning library for the Python programming language.\n",
        "- `pandas`: a library providing high-performance, easy-to-use data structures and data analysis tools for the Python programming language.\n",
        "\n",
        "Today, we will be working with the famous MNIST dataset. MNIST (Modified National Institute of Standards and Technology) is a database of low resolution images of handwritten digits. The history here is interesting - the dataset was originally created in the 1980s, when researchers from the aforementioned institute collected samples from American Census Bureau employees and high school students. The dataset was then modified in the 1990s (hence the M in MNIST), and has since become a popular benchmark for machine learning algorithms.\n",
        "\n",
        "The dataset contains images, each of which is a 28x28 grayscale image of a handwritten digit. The goal is to classify each image into one of the 10 possible classes (0-9).\n",
        "\n",
        "![MNIST](https://upload.wikimedia.org/wikipedia/commons/2/27/MnistExamples.png)\n",
        "\n",
        "The Scikit-Learn library provides a convenient function to download and load the MNIST dataset. The following cell will download the dataset. Then we will take a look at the shape of the data."
      ]
    },
    {
      "cell_type": "code",
      "execution_count": 30,
      "metadata": {
        "id": "vzpf4IizRstL"
      },
      "outputs": [],
      "source": [
        "import matplotlib.pyplot as plt\n",
        "import numpy as np\n",
        "\n",
        "from sklearn.datasets import load_digits\n",
        "\n",
        "digits = load_digits()"
      ]
    },
    {
      "cell_type": "code",
      "execution_count": 31,
      "metadata": {
        "id": "Gz_sYnCRRstM",
        "outputId": "1aadf54a-0a16-42d6-e773-8483c8a9e18f",
        "colab": {
          "base_uri": "https://localhost:8080/"
        }
      },
      "outputs": [
        {
          "output_type": "execute_result",
          "data": {
            "text/plain": [
              "(1797, 8, 8)"
            ]
          },
          "metadata": {},
          "execution_count": 31
        }
      ],
      "source": [
        "digits.images.shape"
      ]
    },
    {
      "cell_type": "markdown",
      "metadata": {
        "collapsed": false,
        "id": "lqsZokgmRstN"
      },
      "source": [
        "This means that we have 1797 images, each of which is a 8x8 image. For basic image processing, we will need to flatten the images into a 1D array. In this case, Scikit-Learn has already provided the data in this format too:"
      ]
    },
    {
      "cell_type": "code",
      "execution_count": 32,
      "metadata": {
        "id": "G_3qWfHfRstN",
        "outputId": "8df502d0-9609-4bff-a6d3-f51cda5e3bc6",
        "colab": {
          "base_uri": "https://localhost:8080/"
        }
      },
      "outputs": [
        {
          "output_type": "execute_result",
          "data": {
            "text/plain": [
              "(1797, 64)"
            ]
          },
          "metadata": {},
          "execution_count": 32
        }
      ],
      "source": [
        "digits.data.shape"
      ]
    },
    {
      "cell_type": "markdown",
      "metadata": {
        "collapsed": false,
        "id": "-bqczq22RstO"
      },
      "source": [
        "For each image, we also have the corresponding label (or target, or class) in `digits.target`:"
      ]
    },
    {
      "cell_type": "code",
      "execution_count": 33,
      "metadata": {
        "id": "EZpfPR2xRstO",
        "outputId": "017ffa1b-1581-4ddc-d05b-95b5b0e08d89",
        "colab": {
          "base_uri": "https://localhost:8080/"
        }
      },
      "outputs": [
        {
          "output_type": "execute_result",
          "data": {
            "text/plain": [
              "(1797,)"
            ]
          },
          "metadata": {},
          "execution_count": 33
        }
      ],
      "source": [
        "digits.target.shape"
      ]
    },
    {
      "cell_type": "markdown",
      "metadata": {
        "collapsed": false,
        "id": "f0ZCyn67RstO"
      },
      "source": [
        "We can take a look at some random images from the dataset. The following cell will select 9 random images and plot them in a 3x3 grid (meaning that you can rerun the cell to see different images)."
      ]
    },
    {
      "cell_type": "code",
      "execution_count": 34,
      "metadata": {
        "id": "VilE60PiRstP",
        "outputId": "5ba6e161-d6ea-4b59-bdc5-4cf411a713d4",
        "colab": {
          "base_uri": "https://localhost:8080/",
          "height": 521
        }
      },
      "outputs": [
        {
          "output_type": "display_data",
          "data": {
            "text/plain": [
              "<Figure size 600x600 with 9 Axes>"
            ],
            "image/png": "[encoded data removed]"
          },
          "metadata": {}
        }
      ],
      "source": [
        "# Selecting 9 random indices\n",
        "random_indices = np.random.choice(len(digits.images), 9, replace=False)\n",
        "\n",
        "# Creating a 3x3 grid plot\n",
        "fig, axes = plt.subplots(3, 3, figsize=(6, 6))\n",
        "\n",
        "for i, ax in enumerate(axes.flat):\n",
        "    ax.imshow(digits.images[random_indices[i]], cmap=plt.cm.gray_r, interpolation='nearest')\n",
        "    ax.set_title(f\"Label: {digits.target[random_indices[i]]}\")\n",
        "\n",
        "    # Removing axis labels\n",
        "    ax.set_xticks([])\n",
        "    ax.set_yticks([])\n",
        "\n",
        "plt.show()"
      ]
    },
    {
      "cell_type": "markdown",
      "metadata": {
        "collapsed": false,
        "id": "13uv6bjhRstP"
      },
      "source": [
        "As you can see, these images are very low resolution. This is because they were originally scanned from paper forms, and then scaled down to 8x8 pixels. This is a common problem in machine learning - the quality of the data is often a limiting factor in the performance of the model. In this case, the low resolution of the images makes it difficult to distinguish between some digits, even for humans. For example, the following images are all labelled as 9, but they look very different:"
      ]
    },
    {
      "cell_type": "code",
      "execution_count": 35,
      "metadata": {
        "id": "FwU4IYCjRstQ",
        "outputId": "dbff4cb2-a202-46c5-ca16-4f9d7f3b0e5f",
        "colab": {
          "base_uri": "https://localhost:8080/",
          "height": 521
        }
      },
      "outputs": [
        {
          "output_type": "display_data",
          "data": {
            "text/plain": [
              "<Figure size 600x600 with 9 Axes>"
            ],
            "image/png": "[encoded data removed]"
          },
          "metadata": {}
        }
      ],
      "source": [
        "# Selecting 9 random indices of images labelled as 9\n",
        "random_indices = np.random.choice(np.where(digits.target == 9)[0], 9, replace=False)\n",
        "\n",
        "# Creating a 3x3 grid plot\n",
        "fig, axes = plt.subplots(3, 3, figsize=(6, 6))\n",
        "\n",
        "for i, ax in enumerate(axes.flat):\n",
        "    ax.imshow(digits.images[random_indices[i]], cmap=plt.cm.gray_r, interpolation='nearest')\n",
        "    ax.set_title(f\"Label: {digits.target[random_indices[i]]}\")\n",
        "\n",
        "    # Removing axis labels\n",
        "    ax.set_xticks([])\n",
        "    ax.set_yticks([])\n",
        "\n",
        "plt.show()"
      ]
    },
    {
      "cell_type": "markdown",
      "metadata": {
        "collapsed": false,
        "id": "5ZOId_RmRstQ"
      },
      "source": [
        "While we are plotting the samples as images, remember that our model is only going to see a 1D array of numbers."
      ]
    },
    {
      "cell_type": "markdown",
      "metadata": {
        "id": "yp6GTnHLRstQ"
      },
      "source": [
        "## Train / Test Split\n",
        "\n",
        "In order to understand how well our model performs on _new_ data, we need to split our dataset into a training set and a test set. The training set will be used to train the model, and the test set will be used to evaluate the performance of the model.\n",
        "\n",
        "Let's keep some held-out data to be able to measure the generalization performance of our model."
      ]
    },
    {
      "cell_type": "code",
      "execution_count": 36,
      "metadata": {
        "id": "E-hhzv6VRstQ"
      },
      "outputs": [],
      "source": [
        "from sklearn.model_selection import train_test_split\n",
        "\n",
        "\n",
        "X_train, X_test, y_train, y_test = train_test_split(\n",
        "    digits.data,\n",
        "    digits.target,\n",
        "    test_size=0.2, # 20% of the data is used for testing\n",
        "    random_state=42 # Providing a value here means getting the same \"random\" split every time\n",
        ")"
      ]
    },
    {
      "cell_type": "markdown",
      "metadata": {
        "collapsed": false,
        "id": "BKjqazL0RstR"
      },
      "source": [
        "Let's confirm that the data has been split correctly:"
      ]
    },
    {
      "cell_type": "code",
      "execution_count": 37,
      "metadata": {
        "id": "C9ApkVGYRstR",
        "outputId": "cc2b4636-ff56-4d89-ce27-17e1523a407a",
        "colab": {
          "base_uri": "https://localhost:8080/"
        }
      },
      "outputs": [
        {
          "output_type": "stream",
          "name": "stdout",
          "text": [
            "X_train shape: (1437, 64)\n",
            "y_train shape: (1437,)\n",
            "X_test shape: (360, 64)\n",
            "y_test shape: (360,)\n"
          ]
        }
      ],
      "source": [
        "print(f'X_train shape: {X_train.shape}')\n",
        "print(f'y_train shape: {y_train.shape}')\n",
        "print(f'X_test shape: {X_test.shape}')\n",
        "print(f'y_test shape: {y_test.shape}')"
      ]
    },
    {
      "cell_type": "markdown",
      "metadata": {
        "collapsed": false,
        "id": "Wg49x8WzRstR"
      },
      "source": [
        "This is what we expected to see. It's always good to check as you go, to make sure that you haven't made a mistake somewhere - this is something that working in a notebook like this makes it easy to do."
      ]
    },
    {
      "cell_type": "markdown",
      "metadata": {
        "id": "aJ8FXcKTRstR"
      },
      "source": [
        "## Preprocessing of the Target Data\n",
        "\n",
        "The labels that we have are integers between 0 and 9. However, we want to train a neural network to classify the images into one of 10 classes. It can be a little counter-intuitive because we are dealing with numbers, but our classes are not ordinal.\n",
        "\n",
        "What do we mean by that? Let's imagine we were trying to predict the height of a building (separated into classes) from images. If a given building was actually 10m tall, and our model predicted 9m, we would consider that to be a better prediction than if it predicted 1m. This is because the classes are ordinal - there is meaning in the difference between the classes.\n",
        "\n",
        "In our case, even though we are dealing with numbers, the classes are not ordinal. If a given image is actually a 9, and our model predicts 8, we would consider that to be just as bad as if it predicted 1. This is because the classes are not ordered, and the difference between the classes is not meaningful.\n",
        "\n",
        "Because of this, we need to convert our labels from an integer value into a one-hot encoded vector. This means that each label will be represented as a vector of length 10, with a 1 in the position corresponding to the class, and 0s everywhere else. For example, the label 9 would be represented as `[0, 0, 0, 0, 0, 0, 0, 0, 0, 1]`. This is a common way of representing categorical data in machine learning. By doing this, we ensure that our model is taught the correct relationship between the classes."
      ]
    },
    {
      "cell_type": "code",
      "execution_count": 38,
      "metadata": {
        "id": "QiQCYNThRstR",
        "outputId": "b502399f-8423-4a4e-ebc8-459ec0242d0f",
        "colab": {
          "base_uri": "https://localhost:8080/"
        }
      },
      "outputs": [
        {
          "output_type": "stream",
          "name": "stdout",
          "text": [
            "Before one-hot encoding: 6\n",
            "After one-hot encoding: [0. 0. 0. 0. 0. 0. 1. 0. 0. 0.]\n"
          ]
        }
      ],
      "source": [
        "from tensorflow.keras.utils import to_categorical\n",
        "\n",
        "print(f'Before one-hot encoding: {y_train[0]}')\n",
        "y_train = to_categorical(y_train, num_classes=10)\n",
        "y_test = to_categorical(y_test, num_classes=10)\n",
        "print(f'After one-hot encoding: {y_train[0]}')"
      ]
    },
    {
      "cell_type": "markdown",
      "metadata": {
        "id": "2KWZmRCFRstS"
      },
      "source": [
        "## Feed Forward Neural Networks with Keras\n",
        "\n",
        "Now that we have prepared our data, it's time to build a simple neural network! In this section, we will use the Keras API to build a simple feed forward neural network. We will then train the model on the MNIST dataset, and evaluate its performance on the test set.\n",
        "\n",
        "In most modern deep learning frameworks, the process of building a model can be broken down into a few steps:\n",
        "\n",
        "- Define the model architecture: this is where we define the layers of the model, and how they are connected to each other.\n",
        "- Compile the model: this is where we define the loss function, the optimizer, and the metrics that we want to use to evaluate the model.\n",
        "- Train the model: this is where we train the model on the training data.\n",
        "\n",
        "Let's start with defining the model architecture. There are two ways to do this in Keras - the Sequential API and the Functional API. The Sequential API is the simplest way to build a model, and is suitable for most use cases. The Functional API is more flexible, and allows you to build more complex models. We will start with the Sequential API, and then we will look at the Functional API later in the course.\n",
        "\n",
        "Our simple neural network will be \"fully-connected\". This means that each neuron in a given layer is connected to every neuron in the next layer. This is also known as a \"dense\" layer. We will use the `Dense` class from Keras to define our layers."
      ]
    },
    {
      "cell_type": "code",
      "execution_count": 39,
      "metadata": {
        "id": "TFAZ1JbdRstS",
        "outputId": "e6362be1-9dc6-499f-afdb-0ace24df126b",
        "colab": {
          "base_uri": "https://localhost:8080/",
          "height": 286
        }
      },
      "outputs": [
        {
          "output_type": "stream",
          "name": "stderr",
          "text": [
            "/usr/local/lib/python3.11/dist-packages/keras/src/layers/core/dense.py:87: UserWarning: Do not pass an `input_shape`/`input_dim` argument to a layer. When using Sequential models, prefer using an `Input(shape)` object as the first layer in the model instead.\n",
            "  super().__init__(activity_regularizer=activity_regularizer, **kwargs)\n"
          ]
        },
        {
          "output_type": "display_data",
          "data": {
            "text/plain": [
              "\u001b[1mModel: \"sequential_1\"\u001b[0m\n"
            ],
            "text/html": [
              "<pre style=\"white-space:pre;overflow-x:auto;line-height:normal;font-family:Menlo,'DejaVu Sans Mono',consolas,'Courier New',monospace\"><span style=\"font-weight: bold\">Model: \"sequential_1\"</span>\n",
              "</pre>\n"
            ]
          },
          "metadata": {}
        },
        {
          "output_type": "display_data",
          "data": {
            "text/plain": [
              "┏━━━━━━━━━━━━━━━━━━━━━━━━━━━━━━━━━━━━━━┳━━━━━━━━━━━━━━━━━━━━━━━━━━━━━┳━━━━━━━━━━━━━━━━━┓\n",
              "┃\u001b[1m \u001b[0m\u001b[1mLayer (type)                        \u001b[0m\u001b[1m \u001b[0m┃\u001b[1m \u001b[0m\u001b[1mOutput Shape               \u001b[0m\u001b[1m \u001b[0m┃\u001b[1m \u001b[0m\u001b[1m        Param #\u001b[0m\u001b[1m \u001b[0m┃\n",
              "┡━━━━━━━━━━━━━━━━━━━━━━━━━━━━━━━━━━━━━━╇━━━━━━━━━━━━━━━━━━━━━━━━━━━━━╇━━━━━━━━━━━━━━━━━┩\n",
              "│ dense_3 (\u001b[38;5;33mDense\u001b[0m)                      │ (\u001b[38;5;45mNone\u001b[0m, \u001b[38;5;34m64\u001b[0m)                  │           \u001b[38;5;34m4,160\u001b[0m │\n",
              "├──────────────────────────────────────┼─────────────────────────────┼─────────────────┤\n",
              "│ dense_4 (\u001b[38;5;33mDense\u001b[0m)                      │ (\u001b[38;5;45mNone\u001b[0m, \u001b[38;5;34m64\u001b[0m)                  │           \u001b[38;5;34m4,160\u001b[0m │\n",
              "├──────────────────────────────────────┼─────────────────────────────┼─────────────────┤\n",
              "│ dense_5 (\u001b[38;5;33mDense\u001b[0m)                      │ (\u001b[38;5;45mNone\u001b[0m, \u001b[38;5;34m10\u001b[0m)                  │             \u001b[38;5;34m650\u001b[0m │\n",
              "└──────────────────────────────────────┴─────────────────────────────┴─────────────────┘\n"
            ],
            "text/html": [
              "<pre style=\"white-space:pre;overflow-x:auto;line-height:normal;font-family:Menlo,'DejaVu Sans Mono',consolas,'Courier New',monospace\">┏━━━━━━━━━━━━━━━━━━━━━━━━━━━━━━━━━━━━━━┳━━━━━━━━━━━━━━━━━━━━━━━━━━━━━┳━━━━━━━━━━━━━━━━━┓\n",
              "┃<span style=\"font-weight: bold\"> Layer (type)                         </span>┃<span style=\"font-weight: bold\"> Output Shape                </span>┃<span style=\"font-weight: bold\">         Param # </span>┃\n",
              "┡━━━━━━━━━━━━━━━━━━━━━━━━━━━━━━━━━━━━━━╇━━━━━━━━━━━━━━━━━━━━━━━━━━━━━╇━━━━━━━━━━━━━━━━━┩\n",
              "│ dense_3 (<span style=\"color: #0087ff; text-decoration-color: #0087ff\">Dense</span>)                      │ (<span style=\"color: #00d7ff; text-decoration-color: #00d7ff\">None</span>, <span style=\"color: #00af00; text-decoration-color: #00af00\">64</span>)                  │           <span style=\"color: #00af00; text-decoration-color: #00af00\">4,160</span> │\n",
              "├──────────────────────────────────────┼─────────────────────────────┼─────────────────┤\n",
              "│ dense_4 (<span style=\"color: #0087ff; text-decoration-color: #0087ff\">Dense</span>)                      │ (<span style=\"color: #00d7ff; text-decoration-color: #00d7ff\">None</span>, <span style=\"color: #00af00; text-decoration-color: #00af00\">64</span>)                  │           <span style=\"color: #00af00; text-decoration-color: #00af00\">4,160</span> │\n",
              "├──────────────────────────────────────┼─────────────────────────────┼─────────────────┤\n",
              "│ dense_5 (<span style=\"color: #0087ff; text-decoration-color: #0087ff\">Dense</span>)                      │ (<span style=\"color: #00d7ff; text-decoration-color: #00d7ff\">None</span>, <span style=\"color: #00af00; text-decoration-color: #00af00\">10</span>)                  │             <span style=\"color: #00af00; text-decoration-color: #00af00\">650</span> │\n",
              "└──────────────────────────────────────┴─────────────────────────────┴─────────────────┘\n",
              "</pre>\n"
            ]
          },
          "metadata": {}
        },
        {
          "output_type": "display_data",
          "data": {
            "text/plain": [
              "\u001b[1m Total params: \u001b[0m\u001b[38;5;34m8,970\u001b[0m (35.04 KB)\n"
            ],
            "text/html": [
              "<pre style=\"white-space:pre;overflow-x:auto;line-height:normal;font-family:Menlo,'DejaVu Sans Mono',consolas,'Courier New',monospace\"><span style=\"font-weight: bold\"> Total params: </span><span style=\"color: #00af00; text-decoration-color: #00af00\">8,970</span> (35.04 KB)\n",
              "</pre>\n"
            ]
          },
          "metadata": {}
        },
        {
          "output_type": "display_data",
          "data": {
            "text/plain": [
              "\u001b[1m Trainable params: \u001b[0m\u001b[38;5;34m8,970\u001b[0m (35.04 KB)\n"
            ],
            "text/html": [
              "<pre style=\"white-space:pre;overflow-x:auto;line-height:normal;font-family:Menlo,'DejaVu Sans Mono',consolas,'Courier New',monospace\"><span style=\"font-weight: bold\"> Trainable params: </span><span style=\"color: #00af00; text-decoration-color: #00af00\">8,970</span> (35.04 KB)\n",
              "</pre>\n"
            ]
          },
          "metadata": {}
        },
        {
          "output_type": "display_data",
          "data": {
            "text/plain": [
              "\u001b[1m Non-trainable params: \u001b[0m\u001b[38;5;34m0\u001b[0m (0.00 B)\n"
            ],
            "text/html": [
              "<pre style=\"white-space:pre;overflow-x:auto;line-height:normal;font-family:Menlo,'DejaVu Sans Mono',consolas,'Courier New',monospace\"><span style=\"font-weight: bold\"> Non-trainable params: </span><span style=\"color: #00af00; text-decoration-color: #00af00\">0</span> (0.00 B)\n",
              "</pre>\n"
            ]
          },
          "metadata": {}
        }
      ],
      "source": [
        "from tensorflow.keras.models import Sequential\n",
        "from tensorflow.keras.layers import Dense\n",
        "\n",
        "model = Sequential()\n",
        "\n",
        "# Input layer\n",
        "model.add(Dense(64, activation='relu', input_shape=(64,))) # 64 neurons, ReLU activation, input shape of 64\n",
        "\n",
        "# Hidden layer\n",
        "model.add(Dense(64, activation='relu')) # 64 neurons, ReLU activation\n",
        "\n",
        "# Output layer\n",
        "model.add(Dense(10, activation='softmax')) # 10 neurons, softmax activation\n",
        "\n",
        "model.summary()"
      ]
    },
    {
      "cell_type": "markdown",
      "metadata": {
        "collapsed": false,
        "id": "LlZAten-RstS"
      },
      "source": [
        "Congratulations! You have just built your first neural network with Keras. As we can confirm from the `model.summary()` output, our model has 3 layers. The first layer has 64 neurons, the second layer has 64 neurons, and the output layer has 10 neurons. The output layer uses the softmax activation function, which is commonly used for multi-class classification problems. The other layers use the ReLU activation function, which is commonly used for hidden layers in neural networks.\n",
        "\n",
        "Next, we need to compile the model. This is where we define the loss function, the optimizer, and the metrics that we want to use to evaluate the model. We will use the `compile` method of the model to do this."
      ]
    },
    {
      "cell_type": "code",
      "execution_count": 40,
      "metadata": {
        "id": "pSAxOyyrRstS"
      },
      "outputs": [],
      "source": [
        "model.compile(\n",
        "    loss='categorical_crossentropy', # Loss function\n",
        "    optimizer='sgd', # Optimizer\n",
        "    metrics=['accuracy'] # Metrics to evaluate the model\n",
        ")"
      ]
    },
    {
      "cell_type": "markdown",
      "metadata": {
        "collapsed": false,
        "id": "Zexexps6RstT"
      },
      "source": [
        "Because we are predicting which class a sample belongs to, we will use the `categorical_crossentropy` function. This loss function is commonly used for multi-class classification problems.\n",
        "\n",
        "For our optimizer, we are using the standard stochastic gradient descent (SGD) algorithm. This is a simple optimizer that works well for many problems. We will look at more advanced optimizers later in the course.\n",
        "\n",
        "Finally, we are using the `accuracy` metric to evaluate the model. This is a common metric for classification problems, and it is simply the fraction of samples that are correctly classified. This is an easier metric for us to understand, but it's not quite as useful for actually training the model (for example, it doesn't tell us how \"confident\" the model is in its predictions).\n",
        "\n",
        "Now that we have (a) defined the model architecture and (b) compiled the model, we are ready to train the model. We will use the `fit` method of the model to do this."
      ]
    },
    {
      "cell_type": "code",
      "execution_count": 41,
      "metadata": {
        "id": "LwvPultERstT",
        "outputId": "bf38d3e3-3e91-4715-ed2c-de319ef50f25",
        "colab": {
          "base_uri": "https://localhost:8080/"
        }
      },
      "outputs": [
        {
          "output_type": "stream",
          "name": "stdout",
          "text": [
            "Epoch 1/5\n",
            "\u001b[1m36/36\u001b[0m \u001b[32m━━━━━━━━━━━━━━━━━━━━\u001b[0m\u001b[37m\u001b[0m \u001b[1m1s\u001b[0m 10ms/step - accuracy: 0.3852 - loss: 2.6716 - val_accuracy: 0.7257 - val_loss: 0.8021\n",
            "Epoch 2/5\n",
            "\u001b[1m36/36\u001b[0m \u001b[32m━━━━━━━━━━━━━━━━━━━━\u001b[0m\u001b[37m\u001b[0m \u001b[1m0s\u001b[0m 4ms/step - accuracy: 0.8414 - loss: 0.5815 - val_accuracy: 0.8819 - val_loss: 0.3911\n",
            "Epoch 3/5\n",
            "\u001b[1m36/36\u001b[0m \u001b[32m━━━━━━━━━━━━━━━━━━━━\u001b[0m\u001b[37m\u001b[0m \u001b[1m0s\u001b[0m 4ms/step - accuracy: 0.9121 - loss: 0.3534 - val_accuracy: 0.8715 - val_loss: 0.3545\n",
            "Epoch 4/5\n",
            "\u001b[1m36/36\u001b[0m \u001b[32m━━━━━━━━━━━━━━━━━━━━\u001b[0m\u001b[37m\u001b[0m \u001b[1m0s\u001b[0m 4ms/step - accuracy: 0.9184 - loss: 0.2773 - val_accuracy: 0.9028 - val_loss: 0.2598\n",
            "Epoch 5/5\n",
            "\u001b[1m36/36\u001b[0m \u001b[32m━━━━━━━━━━━━━━━━━━━━\u001b[0m\u001b[37m\u001b[0m \u001b[1m0s\u001b[0m 4ms/step - accuracy: 0.9597 - loss: 0.1855 - val_accuracy: 0.8958 - val_loss: 0.2770\n"
          ]
        },
        {
          "output_type": "execute_result",
          "data": {
            "text/plain": [
              "<keras.src.callbacks.history.History at 0x7ed21a103e50>"
            ]
          },
          "metadata": {},
          "execution_count": 41
        }
      ],
      "source": [
        "model.fit(\n",
        "    X_train, # Training data\n",
        "    y_train, # Training labels\n",
        "    epochs=5, # Number of epochs\n",
        "    batch_size=32, # Number of samples per batch\n",
        "    validation_split=0.2 # Use 20% of the data for validation\n",
        ")"
      ]
    },
    {
      "cell_type": "markdown",
      "metadata": {
        "collapsed": false,
        "id": "YRix3HASRstT"
      },
      "source": [
        "We have now trained our model! We can see that the model has been trained for 5 epochs, and the loss and accuracy have been printed for each epoch. We can also see that the model has been evaluated on the validation data at the end of each epoch. This is useful for us to see how the model is performing on data that it hasn't seen during training.\n",
        "\n",
        "Once the model is trained, it's time to evaluate the model on the test set. We can use the `evaluate` method of the model to do this. If you were building a model for a real-world application, this is the very last thing you would do, and the result here would be the figure you'd report in your paper or presentation."
      ]
    },
    {
      "cell_type": "code",
      "execution_count": 42,
      "metadata": {
        "id": "k3SDWSy4RstT",
        "outputId": "a57912e1-4d20-47fc-dc38-6983d1fa1e44",
        "colab": {
          "base_uri": "https://localhost:8080/"
        }
      },
      "outputs": [
        {
          "output_type": "stream",
          "name": "stdout",
          "text": [
            "\u001b[1m12/12\u001b[0m \u001b[32m━━━━━━━━━━━━━━━━━━━━\u001b[0m\u001b[37m\u001b[0m \u001b[1m0s\u001b[0m 4ms/step - accuracy: 0.9279 - loss: 0.2060  \n",
            "Loss:     0.24\n",
            "Accuracy: 92.50%\n"
          ]
        }
      ],
      "source": [
        "loss, accuracy = model.evaluate(X_test, y_test)\n",
        "\n",
        "print(f'Loss:     {loss:.2f}')\n",
        "print(f'Accuracy: {accuracy*100:.2f}%')"
      ]
    },
    {
      "cell_type": "markdown",
      "metadata": {
        "collapsed": false,
        "id": "jytZKazRRstT"
      },
      "source": [
        "Hopefully you have achieved an accuracy of around 95%. This is pretty good, but we can do better! In the next section, we will look at how we can improve the performance of our model by using a more advanced optimizer. But before we get there, let's do one other thing - let's look at the predictions that our model is making on the test set. When you are building a model, it's often useful to have a look at some of the examples your model is getting wrong. Sometimes this can reveal problems with the data, or it can give you ideas for how to improve your model."
      ]
    },
    {
      "cell_type": "code",
      "execution_count": 43,
      "metadata": {
        "id": "zS3bYiN6RstT",
        "outputId": "edb796ac-9e61-40fb-97ad-35d43c32ac54",
        "colab": {
          "base_uri": "https://localhost:8080/",
          "height": 539
        }
      },
      "outputs": [
        {
          "output_type": "stream",
          "name": "stdout",
          "text": [
            "\u001b[1m12/12\u001b[0m \u001b[32m━━━━━━━━━━━━━━━━━━━━\u001b[0m\u001b[37m\u001b[0m \u001b[1m0s\u001b[0m 7ms/step\n"
          ]
        },
        {
          "output_type": "display_data",
          "data": {
            "text/plain": [
              "<Figure size 600x600 with 9 Axes>"
            ],
            "image/png": "[encoded data removed]"
          },
          "metadata": {}
        }
      ],
      "source": [
        "# Get the predictions for the test data\n",
        "predictions = model.predict(X_test)\n",
        "\n",
        "# Get the index of the largest probability (i.e. the predicted class)\n",
        "predicted_classes = np.argmax(predictions, axis=1)\n",
        "true_classes = np.argmax(y_test, axis=1)\n",
        "misclassified_indices = np.where(predicted_classes != true_classes)[0]\n",
        "\n",
        "# Get the misclassified samples themselves\n",
        "misclassified_samples = X_test[misclassified_indices]\n",
        "misclassified_labels = np.argmax(y_test[misclassified_indices], axis=1)\n",
        "\n",
        "# Pick 9 random misclassified samples\n",
        "random_indices = np.random.choice(len(misclassified_indices), 9, replace=False)\n",
        "\n",
        "fig, axes = plt.subplots(3, 3, figsize=(6, 6))\n",
        "for i, ax in enumerate(axes.flat):\n",
        "    ax.imshow(misclassified_samples[random_indices[i]].reshape(8, 8), cmap=plt.cm.gray_r, interpolation='nearest')\n",
        "    ax.set_title(f\"Pred: {predicted_classes[misclassified_indices[random_indices[i]]]}, Real: {misclassified_labels[random_indices[i]]}\")\n",
        "\n",
        "    # Removing axis labels\n",
        "    ax.set_xticks([])\n",
        "    ax.set_yticks([])\n",
        "\n",
        "plt.show()"
      ]
    },
    {
      "cell_type": "markdown",
      "metadata": {
        "collapsed": false,
        "id": "D4Somu6mRstT"
      },
      "source": [
        "What do you think? Would you have made the same mistakes as the model? Determining whether the mistakes are \"understandable\" is a rough way of seeing if you could improve the model further, or if this is the best you can do with the data you have."
      ]
    },
    {
      "cell_type": "markdown",
      "metadata": {
        "id": "JBf9rvr-RstT"
      },
      "source": [
        "### b) Exercises: Impact of the Optimizer\n",
        "\n",
        "In this section, you will play around with the optimizer and see how it affects the performance of the model. We will start with the standard SGD optimizer, and then we will look at more advanced optimizers.\n",
        "\n",
        "1. Try decreasing the learning rate of the SGD optimizer by a factor of 10, or 100. What do you observe?\n",
        "2. Try increasing the learning rate of the SGD optimizer. What happens?\n",
        "3. The SGD optimizer has a momentum parameter. In a nutshell, this parameter controls how much the gradient from the previous step affects the current step. Try enabling momentum in the SGD optimizer with a value of 0.9. What happens?\n",
        "  \n",
        "**Notes**:\n",
        "\n",
        "The keras API documentation is available at:\n",
        "\n",
        "https://www.tensorflow.org/api_docs/python/tf/keras\n",
        "\n",
        "It is also possible to learn more about the parameters of a class by using the question mark: type and evaluate:\n",
        "\n",
        "```python\n",
        "optimizers.SGD?\n",
        "```\n",
        "\n",
        "in a jupyter notebook cell.\n",
        "\n",
        "It is also possible to type the beginning of a function call / constructor and type \"shift-tab\" after the opening paren:\n",
        "\n",
        "```python\n",
        "optimizers.SGD(<shift-tab>\n",
        "```"
      ]
    },
    {
      "cell_type": "code",
      "execution_count": 44,
      "metadata": {
        "id": "pMavuM3dRstT",
        "outputId": "166c45e3-caed-4bb6-cdba-dec298ac45fc",
        "colab": {
          "base_uri": "https://localhost:8080/"
        }
      },
      "outputs": [
        {
          "output_type": "stream",
          "name": "stdout",
          "text": [
            "Epoch 1/5\n",
            "\u001b[1m36/36\u001b[0m \u001b[32m━━━━━━━━━━━━━━━━━━━━\u001b[0m\u001b[37m\u001b[0m \u001b[1m1s\u001b[0m 10ms/step - accuracy: 0.9545 - loss: 0.1728 - val_accuracy: 0.9167 - val_loss: 0.2088\n",
            "Epoch 2/5\n",
            "\u001b[1m36/36\u001b[0m \u001b[32m━━━━━━━━━━━━━━━━━━━━\u001b[0m\u001b[37m\u001b[0m \u001b[1m0s\u001b[0m 5ms/step - accuracy: 0.9738 - loss: 0.1257 - val_accuracy: 0.9410 - val_loss: 0.1995\n",
            "Epoch 3/5\n",
            "\u001b[1m36/36\u001b[0m \u001b[32m━━━━━━━━━━━━━━━━━━━━\u001b[0m\u001b[37m\u001b[0m \u001b[1m0s\u001b[0m 7ms/step - accuracy: 0.9783 - loss: 0.0982 - val_accuracy: 0.9201 - val_loss: 0.2265\n",
            "Epoch 4/5\n",
            "\u001b[1m36/36\u001b[0m \u001b[32m━━━━━━━━━━━━━━━━━━━━\u001b[0m\u001b[37m\u001b[0m \u001b[1m0s\u001b[0m 6ms/step - accuracy: 0.9799 - loss: 0.1025 - val_accuracy: 0.9479 - val_loss: 0.1994\n",
            "Epoch 5/5\n",
            "\u001b[1m36/36\u001b[0m \u001b[32m━━━━━━━━━━━━━━━━━━━━\u001b[0m\u001b[37m\u001b[0m \u001b[1m0s\u001b[0m 6ms/step - accuracy: 0.9822 - loss: 0.0933 - val_accuracy: 0.9271 - val_loss: 0.1983\n",
            "\u001b[1m12/12\u001b[0m \u001b[32m━━━━━━━━━━━━━━━━━━━━\u001b[0m\u001b[37m\u001b[0m \u001b[1m0s\u001b[0m 6ms/step - accuracy: 0.9622 - loss: 0.1191  \n",
            "Loss:     0.15\n",
            "Accuracy: 95.00%\n"
          ]
        }
      ],
      "source": [
        "# 1. Decreasing the learning rate\n",
        "from tensorflow.keras.optimizers import SGD\n",
        "\n",
        "model.compile(\n",
        "    loss='categorical_crossentropy', # Loss function\n",
        "    optimizer= SGD(learning_rate=0.01), # Optimizer\n",
        "    metrics=['accuracy'] # Metrics to evaluate the model\n",
        ")\n",
        "\n",
        "model.fit(\n",
        "    X_train, # Training data\n",
        "    y_train, # Training labels\n",
        "    epochs=5, # Number of epochs\n",
        "    batch_size=32, # Number of samples per batch\n",
        "    validation_split=0.2 # Use 20% of the data for validation\n",
        ")\n",
        "\n",
        "loss, accuracy = model.evaluate(X_test, y_test)\n",
        "\n",
        "print(f'Loss:     {loss:.2f}')\n",
        "print(f'Accuracy: {accuracy*100:.2f}%')\n"
      ]
    },
    {
      "cell_type": "code",
      "execution_count": 45,
      "metadata": {
        "id": "2OOKeJodRstU",
        "outputId": "0d1f2cca-99f2-4022-863c-97d69e1fb2c4",
        "colab": {
          "base_uri": "https://localhost:8080/"
        }
      },
      "outputs": [
        {
          "output_type": "stream",
          "name": "stdout",
          "text": [
            "Epoch 1/5\n",
            "\u001b[1m36/36\u001b[0m \u001b[32m━━━━━━━━━━━━━━━━━━━━\u001b[0m\u001b[37m\u001b[0m \u001b[1m1s\u001b[0m 10ms/step - accuracy: 0.4524 - loss: 2.7629 - val_accuracy: 0.5660 - val_loss: 1.1963\n",
            "Epoch 2/5\n",
            "\u001b[1m36/36\u001b[0m \u001b[32m━━━━━━━━━━━━━━━━━━━━\u001b[0m\u001b[37m\u001b[0m \u001b[1m0s\u001b[0m 4ms/step - accuracy: 0.5627 - loss: 1.3100 - val_accuracy: 0.7847 - val_loss: 0.6513\n",
            "Epoch 3/5\n",
            "\u001b[1m36/36\u001b[0m \u001b[32m━━━━━━━━━━━━━━━━━━━━\u001b[0m\u001b[37m\u001b[0m \u001b[1m0s\u001b[0m 4ms/step - accuracy: 0.6831 - loss: 1.0272 - val_accuracy: 0.8021 - val_loss: 0.5691\n",
            "Epoch 4/5\n",
            "\u001b[1m36/36\u001b[0m \u001b[32m━━━━━━━━━━━━━━━━━━━━\u001b[0m\u001b[37m\u001b[0m \u001b[1m0s\u001b[0m 4ms/step - accuracy: 0.5727 - loss: 1.6013 - val_accuracy: 0.7917 - val_loss: 0.7576\n",
            "Epoch 5/5\n",
            "\u001b[1m36/36\u001b[0m \u001b[32m━━━━━━━━━━━━━━━━━━━━\u001b[0m\u001b[37m\u001b[0m \u001b[1m0s\u001b[0m 5ms/step - accuracy: 0.8009 - loss: 0.6189 - val_accuracy: 0.8090 - val_loss: 0.5202\n",
            "\u001b[1m12/12\u001b[0m \u001b[32m━━━━━━━━━━━━━━━━━━━━\u001b[0m\u001b[37m\u001b[0m \u001b[1m0s\u001b[0m 3ms/step - accuracy: 0.9129 - loss: 0.2708  \n",
            "Loss:     0.33\n",
            "Accuracy: 89.17%\n"
          ]
        }
      ],
      "source": [
        "# 2. Increasing the learning rate\n",
        "\n",
        "model.compile(\n",
        "    loss='categorical_crossentropy', # Loss function\n",
        "    optimizer= SGD(learning_rate=0.1), # Optimizer\n",
        "    metrics=['accuracy'] # Metrics to evaluate the model\n",
        ")\n",
        "\n",
        "model.fit(\n",
        "    X_train, # Training data\n",
        "    y_train, # Training labels\n",
        "    epochs=5, # Number of epochs\n",
        "    batch_size=32, # Number of samples per batch\n",
        "    validation_split=0.2 # Use 20% of the data for validation\n",
        ")\n",
        "\n",
        "loss, accuracy = model.evaluate(X_test, y_test)\n",
        "\n",
        "print(f'Loss:     {loss:.2f}')\n",
        "print(f'Accuracy: {accuracy*100:.2f}%')\n"
      ]
    },
    {
      "cell_type": "code",
      "execution_count": 63,
      "metadata": {
        "id": "rVl-NhmMRstU",
        "outputId": "5389418e-d29c-4f42-8e4b-8afca6c3a657",
        "colab": {
          "base_uri": "https://localhost:8080/"
        }
      },
      "outputs": [
        {
          "output_type": "stream",
          "name": "stdout",
          "text": [
            "Epoch 1/5\n",
            "\u001b[1m36/36\u001b[0m \u001b[32m━━━━━━━━━━━━━━━━━━━━\u001b[0m\u001b[37m\u001b[0m \u001b[1m1s\u001b[0m 9ms/step - accuracy: 0.8544 - loss: 0.4203 - val_accuracy: 0.6667 - val_loss: 0.9712\n",
            "Epoch 2/5\n",
            "\u001b[1m36/36\u001b[0m \u001b[32m━━━━━━━━━━━━━━━━━━━━\u001b[0m\u001b[37m\u001b[0m \u001b[1m0s\u001b[0m 4ms/step - accuracy: 0.5850 - loss: 1.2981 - val_accuracy: 0.5035 - val_loss: 1.3376\n",
            "Epoch 3/5\n",
            "\u001b[1m36/36\u001b[0m \u001b[32m━━━━━━━━━━━━━━━━━━━━\u001b[0m\u001b[37m\u001b[0m \u001b[1m0s\u001b[0m 4ms/step - accuracy: 0.5216 - loss: 1.3412 - val_accuracy: 0.5486 - val_loss: 1.3305\n",
            "Epoch 4/5\n",
            "\u001b[1m36/36\u001b[0m \u001b[32m━━━━━━━━━━━━━━━━━━━━\u001b[0m\u001b[37m\u001b[0m \u001b[1m0s\u001b[0m 5ms/step - accuracy: 0.5338 - loss: 1.2678 - val_accuracy: 0.5312 - val_loss: 1.3197\n",
            "Epoch 5/5\n",
            "\u001b[1m36/36\u001b[0m \u001b[32m━━━━━━━━━━━━━━━━━━━━\u001b[0m\u001b[37m\u001b[0m \u001b[1m0s\u001b[0m 4ms/step - accuracy: 0.4406 - loss: 1.6828 - val_accuracy: 0.3333 - val_loss: 2.1379\n",
            "\u001b[1m12/12\u001b[0m \u001b[32m━━━━━━━━━━━━━━━━━━━━\u001b[0m\u001b[37m\u001b[0m \u001b[1m0s\u001b[0m 3ms/step - accuracy: 0.3758 - loss: 1.9955  \n",
            "Loss:     1.98\n",
            "Accuracy: 37.50%\n"
          ]
        }
      ],
      "source": [
        "# 3. SGD with momentum\n",
        "\n",
        "model.compile(\n",
        "    loss='categorical_crossentropy', # Loss function\n",
        "    optimizer= SGD(learning_rate=0.1, momentum=0.9), # Optimizer\n",
        "    metrics=['accuracy'] # Metrics to evaluate the model\n",
        ")\n",
        "\n",
        "model.fit(\n",
        "    X_train, # Training data\n",
        "    y_train, # Training labels\n",
        "    epochs=5, # Number of epochs\n",
        "    batch_size=32, # Number of samples per batch\n",
        "    validation_split=0.2 # Use 20% of the data for validation\n",
        ")\n",
        "\n",
        "loss, accuracy = model.evaluate(X_test, y_test)\n",
        "\n",
        "print(f'Loss:     {loss:.2f}')\n",
        "print(f'Accuracy: {accuracy*100:.2f}%')\n"
      ]
    },
    {
      "cell_type": "markdown",
      "metadata": {
        "id": "Mx7J9WAoRstU"
      },
      "source": [
        "Next, let's try a more advanced optimizer. Adam is likely the most popular optimizer for deep learning. It is an adaptive learning rate optimizer, which means that it automatically adjusts the learning rate based on how the training is going. This can be very useful, as it means that we don't need to manually tune the learning rate. Let's see how it performs on our model.\n",
        "\n",
        "\n",
        "1. Replace the SGD optimizer by the Adam optimizer from keras and run it\n",
        "  with the default parameters.\n",
        "\n",
        "2. Add another hidden layer with ReLU activation and 64 neurons. Does it improve the model performance?\n"
      ]
    },
    {
      "cell_type": "code",
      "execution_count": 71,
      "metadata": {
        "id": "FcLaAzIURstU",
        "outputId": "1e5bbd2c-e198-4875-dc33-8e745782d095",
        "colab": {
          "base_uri": "https://localhost:8080/"
        }
      },
      "outputs": [
        {
          "output_type": "stream",
          "name": "stdout",
          "text": [
            "Epoch 1/5\n",
            "\u001b[1m36/36\u001b[0m \u001b[32m━━━━━━━━━━━━━━━━━━━━\u001b[0m\u001b[37m\u001b[0m \u001b[1m1s\u001b[0m 9ms/step - accuracy: 0.8179 - loss: 0.4981 - val_accuracy: 0.7743 - val_loss: 0.6858\n",
            "Epoch 2/5\n",
            "\u001b[1m36/36\u001b[0m \u001b[32m━━━━━━━━━━━━━━━━━━━━\u001b[0m\u001b[37m\u001b[0m \u001b[1m0s\u001b[0m 5ms/step - accuracy: 0.8426 - loss: 0.4275 - val_accuracy: 0.7951 - val_loss: 0.6576\n",
            "Epoch 3/5\n",
            "\u001b[1m36/36\u001b[0m \u001b[32m━━━━━━━━━━━━━━━━━━━━\u001b[0m\u001b[37m\u001b[0m \u001b[1m0s\u001b[0m 4ms/step - accuracy: 0.8533 - loss: 0.4314 - val_accuracy: 0.7917 - val_loss: 0.6534\n",
            "Epoch 4/5\n",
            "\u001b[1m36/36\u001b[0m \u001b[32m━━━━━━━━━━━━━━━━━━━━\u001b[0m\u001b[37m\u001b[0m \u001b[1m0s\u001b[0m 5ms/step - accuracy: 0.8508 - loss: 0.4255 - val_accuracy: 0.7917 - val_loss: 0.6632\n",
            "Epoch 5/5\n",
            "\u001b[1m36/36\u001b[0m \u001b[32m━━━━━━━━━━━━━━━━━━━━\u001b[0m\u001b[37m\u001b[0m \u001b[1m0s\u001b[0m 4ms/step - accuracy: 0.8633 - loss: 0.4222 - val_accuracy: 0.7882 - val_loss: 0.6489\n",
            "\u001b[1m12/12\u001b[0m \u001b[32m━━━━━━━━━━━━━━━━━━━━\u001b[0m\u001b[37m\u001b[0m \u001b[1m0s\u001b[0m 3ms/step - accuracy: 0.8317 - loss: 0.4267  \n",
            "Loss:     0.47\n",
            "Accuracy: 83.89%\n"
          ]
        }
      ],
      "source": [
        "# Adam optimizer\n",
        "from tensorflow.keras.optimizers import Adam\n",
        "\n",
        "model.compile(\n",
        "    loss='categorical_crossentropy', # Loss function\n",
        "    optimizer= Adam(), # Optimizer\n",
        "    metrics=['accuracy'] # Metrics to evaluate the model\n",
        ")\n",
        "\n",
        "model.fit(\n",
        "    X_train, # Training data\n",
        "    y_train, # Training labels\n",
        "    epochs=5, # Number of epochs\n",
        "    batch_size=32, # Number of samples per batch\n",
        "    validation_split=0.2 # Use 20% of the data for validation\n",
        ")\n",
        "\n",
        "loss, accuracy = model.evaluate(X_test, y_test)\n",
        "\n",
        "print(f'Loss:     {loss:.2f}')\n",
        "print(f'Accuracy: {accuracy*100:.2f}%')"
      ]
    },
    {
      "cell_type": "code",
      "execution_count": 73,
      "metadata": {
        "id": "Xl7Q0l4kRstU",
        "outputId": "bb2a3f2c-7463-4d93-a9dc-40ba6e534ff2",
        "colab": {
          "base_uri": "https://localhost:8080/",
          "height": 568
        }
      },
      "outputs": [
        {
          "output_type": "stream",
          "name": "stdout",
          "text": [
            "Epoch 1/5\n"
          ]
        },
        {
          "output_type": "stream",
          "name": "stderr",
          "text": [
            "/usr/local/lib/python3.11/dist-packages/keras/src/layers/core/dense.py:87: UserWarning: Do not pass an `input_shape`/`input_dim` argument to a layer. When using Sequential models, prefer using an `Input(shape)` object as the first layer in the model instead.\n",
            "  super().__init__(activity_regularizer=activity_regularizer, **kwargs)\n"
          ]
        },
        {
          "output_type": "stream",
          "name": "stdout",
          "text": [
            "\u001b[1m36/36\u001b[0m \u001b[32m━━━━━━━━━━━━━━━━━━━━\u001b[0m\u001b[37m\u001b[0m \u001b[1m3s\u001b[0m 10ms/step - accuracy: 0.2418 - loss: 3.4564 - val_accuracy: 0.7569 - val_loss: 0.8783\n",
            "Epoch 2/5\n",
            "\u001b[1m36/36\u001b[0m \u001b[32m━━━━━━━━━━━━━━━━━━━━\u001b[0m\u001b[37m\u001b[0m \u001b[1m0s\u001b[0m 5ms/step - accuracy: 0.7871 - loss: 0.7220 - val_accuracy: 0.8715 - val_loss: 0.4291\n",
            "Epoch 3/5\n",
            "\u001b[1m36/36\u001b[0m \u001b[32m━━━━━━━━━━━━━━━━━━━━\u001b[0m\u001b[37m\u001b[0m \u001b[1m0s\u001b[0m 4ms/step - accuracy: 0.9238 - loss: 0.3263 - val_accuracy: 0.8750 - val_loss: 0.3361\n",
            "Epoch 4/5\n",
            "\u001b[1m36/36\u001b[0m \u001b[32m━━━━━━━━━━━━━━━━━━━━\u001b[0m\u001b[37m\u001b[0m \u001b[1m0s\u001b[0m 4ms/step - accuracy: 0.9532 - loss: 0.1923 - val_accuracy: 0.9201 - val_loss: 0.2308\n",
            "Epoch 5/5\n",
            "\u001b[1m36/36\u001b[0m \u001b[32m━━━━━━━━━━━━━━━━━━━━\u001b[0m\u001b[37m\u001b[0m \u001b[1m0s\u001b[0m 6ms/step - accuracy: 0.9616 - loss: 0.1170 - val_accuracy: 0.9375 - val_loss: 0.1930\n",
            "\u001b[1m12/12\u001b[0m \u001b[32m━━━━━━━━━━━━━━━━━━━━\u001b[0m\u001b[37m\u001b[0m \u001b[1m0s\u001b[0m 5ms/step - accuracy: 0.9640 - loss: 0.1333  \n",
            "Loss:     0.16\n",
            "Accuracy: 95.28%\n"
          ]
        },
        {
          "output_type": "display_data",
          "data": {
            "text/plain": [
              "\u001b[1mModel: \"sequential_4\"\u001b[0m\n"
            ],
            "text/html": [
              "<pre style=\"white-space:pre;overflow-x:auto;line-height:normal;font-family:Menlo,'DejaVu Sans Mono',consolas,'Courier New',monospace\"><span style=\"font-weight: bold\">Model: \"sequential_4\"</span>\n",
              "</pre>\n"
            ]
          },
          "metadata": {}
        },
        {
          "output_type": "display_data",
          "data": {
            "text/plain": [
              "┏━━━━━━━━━━━━━━━━━━━━━━━━━━━━━━━━━━━━━━┳━━━━━━━━━━━━━━━━━━━━━━━━━━━━━┳━━━━━━━━━━━━━━━━━┓\n",
              "┃\u001b[1m \u001b[0m\u001b[1mLayer (type)                        \u001b[0m\u001b[1m \u001b[0m┃\u001b[1m \u001b[0m\u001b[1mOutput Shape               \u001b[0m\u001b[1m \u001b[0m┃\u001b[1m \u001b[0m\u001b[1m        Param #\u001b[0m\u001b[1m \u001b[0m┃\n",
              "┡━━━━━━━━━━━━━━━━━━━━━━━━━━━━━━━━━━━━━━╇━━━━━━━━━━━━━━━━━━━━━━━━━━━━━╇━━━━━━━━━━━━━━━━━┩\n",
              "│ dense_13 (\u001b[38;5;33mDense\u001b[0m)                     │ (\u001b[38;5;45mNone\u001b[0m, \u001b[38;5;34m64\u001b[0m)                  │           \u001b[38;5;34m4,160\u001b[0m │\n",
              "├──────────────────────────────────────┼─────────────────────────────┼─────────────────┤\n",
              "│ dense_14 (\u001b[38;5;33mDense\u001b[0m)                     │ (\u001b[38;5;45mNone\u001b[0m, \u001b[38;5;34m64\u001b[0m)                  │           \u001b[38;5;34m4,160\u001b[0m │\n",
              "├──────────────────────────────────────┼─────────────────────────────┼─────────────────┤\n",
              "│ dense_15 (\u001b[38;5;33mDense\u001b[0m)                     │ (\u001b[38;5;45mNone\u001b[0m, \u001b[38;5;34m64\u001b[0m)                  │           \u001b[38;5;34m4,160\u001b[0m │\n",
              "├──────────────────────────────────────┼─────────────────────────────┼─────────────────┤\n",
              "│ dense_16 (\u001b[38;5;33mDense\u001b[0m)                     │ (\u001b[38;5;45mNone\u001b[0m, \u001b[38;5;34m10\u001b[0m)                  │             \u001b[38;5;34m650\u001b[0m │\n",
              "└──────────────────────────────────────┴─────────────────────────────┴─────────────────┘\n"
            ],
            "text/html": [
              "<pre style=\"white-space:pre;overflow-x:auto;line-height:normal;font-family:Menlo,'DejaVu Sans Mono',consolas,'Courier New',monospace\">┏━━━━━━━━━━━━━━━━━━━━━━━━━━━━━━━━━━━━━━┳━━━━━━━━━━━━━━━━━━━━━━━━━━━━━┳━━━━━━━━━━━━━━━━━┓\n",
              "┃<span style=\"font-weight: bold\"> Layer (type)                         </span>┃<span style=\"font-weight: bold\"> Output Shape                </span>┃<span style=\"font-weight: bold\">         Param # </span>┃\n",
              "┡━━━━━━━━━━━━━━━━━━━━━━━━━━━━━━━━━━━━━━╇━━━━━━━━━━━━━━━━━━━━━━━━━━━━━╇━━━━━━━━━━━━━━━━━┩\n",
              "│ dense_13 (<span style=\"color: #0087ff; text-decoration-color: #0087ff\">Dense</span>)                     │ (<span style=\"color: #00d7ff; text-decoration-color: #00d7ff\">None</span>, <span style=\"color: #00af00; text-decoration-color: #00af00\">64</span>)                  │           <span style=\"color: #00af00; text-decoration-color: #00af00\">4,160</span> │\n",
              "├──────────────────────────────────────┼─────────────────────────────┼─────────────────┤\n",
              "│ dense_14 (<span style=\"color: #0087ff; text-decoration-color: #0087ff\">Dense</span>)                     │ (<span style=\"color: #00d7ff; text-decoration-color: #00d7ff\">None</span>, <span style=\"color: #00af00; text-decoration-color: #00af00\">64</span>)                  │           <span style=\"color: #00af00; text-decoration-color: #00af00\">4,160</span> │\n",
              "├──────────────────────────────────────┼─────────────────────────────┼─────────────────┤\n",
              "│ dense_15 (<span style=\"color: #0087ff; text-decoration-color: #0087ff\">Dense</span>)                     │ (<span style=\"color: #00d7ff; text-decoration-color: #00d7ff\">None</span>, <span style=\"color: #00af00; text-decoration-color: #00af00\">64</span>)                  │           <span style=\"color: #00af00; text-decoration-color: #00af00\">4,160</span> │\n",
              "├──────────────────────────────────────┼─────────────────────────────┼─────────────────┤\n",
              "│ dense_16 (<span style=\"color: #0087ff; text-decoration-color: #0087ff\">Dense</span>)                     │ (<span style=\"color: #00d7ff; text-decoration-color: #00d7ff\">None</span>, <span style=\"color: #00af00; text-decoration-color: #00af00\">10</span>)                  │             <span style=\"color: #00af00; text-decoration-color: #00af00\">650</span> │\n",
              "└──────────────────────────────────────┴─────────────────────────────┴─────────────────┘\n",
              "</pre>\n"
            ]
          },
          "metadata": {}
        },
        {
          "output_type": "display_data",
          "data": {
            "text/plain": [
              "\u001b[1m Total params: \u001b[0m\u001b[38;5;34m39,392\u001b[0m (153.88 KB)\n"
            ],
            "text/html": [
              "<pre style=\"white-space:pre;overflow-x:auto;line-height:normal;font-family:Menlo,'DejaVu Sans Mono',consolas,'Courier New',monospace\"><span style=\"font-weight: bold\"> Total params: </span><span style=\"color: #00af00; text-decoration-color: #00af00\">39,392</span> (153.88 KB)\n",
              "</pre>\n"
            ]
          },
          "metadata": {}
        },
        {
          "output_type": "display_data",
          "data": {
            "text/plain": [
              "\u001b[1m Trainable params: \u001b[0m\u001b[38;5;34m13,130\u001b[0m (51.29 KB)\n"
            ],
            "text/html": [
              "<pre style=\"white-space:pre;overflow-x:auto;line-height:normal;font-family:Menlo,'DejaVu Sans Mono',consolas,'Courier New',monospace\"><span style=\"font-weight: bold\"> Trainable params: </span><span style=\"color: #00af00; text-decoration-color: #00af00\">13,130</span> (51.29 KB)\n",
              "</pre>\n"
            ]
          },
          "metadata": {}
        },
        {
          "output_type": "display_data",
          "data": {
            "text/plain": [
              "\u001b[1m Non-trainable params: \u001b[0m\u001b[38;5;34m0\u001b[0m (0.00 B)\n"
            ],
            "text/html": [
              "<pre style=\"white-space:pre;overflow-x:auto;line-height:normal;font-family:Menlo,'DejaVu Sans Mono',consolas,'Courier New',monospace\"><span style=\"font-weight: bold\"> Non-trainable params: </span><span style=\"color: #00af00; text-decoration-color: #00af00\">0</span> (0.00 B)\n",
              "</pre>\n"
            ]
          },
          "metadata": {}
        },
        {
          "output_type": "display_data",
          "data": {
            "text/plain": [
              "\u001b[1m Optimizer params: \u001b[0m\u001b[38;5;34m26,262\u001b[0m (102.59 KB)\n"
            ],
            "text/html": [
              "<pre style=\"white-space:pre;overflow-x:auto;line-height:normal;font-family:Menlo,'DejaVu Sans Mono',consolas,'Courier New',monospace\"><span style=\"font-weight: bold\"> Optimizer params: </span><span style=\"color: #00af00; text-decoration-color: #00af00\">26,262</span> (102.59 KB)\n",
              "</pre>\n"
            ]
          },
          "metadata": {}
        }
      ],
      "source": [
        "# Extra hidden layer\n",
        "\n",
        "model = Sequential()\n",
        "\n",
        "model.add(Dense(64, activation='relu', input_shape=(64,))) # 64 neurons, ReLU activation, input shape of 64\n",
        "model.add(Dense(64, activation='relu'))\n",
        "model.add(Dense(64, activation='relu'))\n",
        "model.add(Dense(10, activation='softmax')) # 10 neurons, softmax activation\n",
        "\n",
        "model.compile(\n",
        "    loss='categorical_crossentropy', # Loss function\n",
        "    optimizer= Adam(), # Optimizer\n",
        "    metrics=['accuracy'] # Metrics to evaluate the model\n",
        ")\n",
        "\n",
        "model.fit(\n",
        "    X_train, # Training data\n",
        "    y_train, # Training labels\n",
        "    epochs=5, # Number of epochs\n",
        "    batch_size=32, # Number of samples per batch\n",
        "    validation_split=0.2 # Use 20% of the data for validation\n",
        ")\n",
        "\n",
        "loss, accuracy = model.evaluate(X_test, y_test)\n",
        "print(f'Loss:     {loss:.2f}')\n",
        "print(f'Accuracy: {accuracy*100:.2f}%')\n",
        "\n",
        "model.summary()\n"
      ]
    },
    {
      "cell_type": "markdown",
      "metadata": {
        "id": "G2njmdXORstU"
      },
      "source": [
        "### Exercises: Forward Pass and Generalization\n",
        "\n",
        "Let's look in more detail at how the model makes predictions on the test set. We will walk through each step of making predictions, examining exactly what's going on.\n",
        "\n",
        "To start, we will apply our model to the test set, and look at what we get as output:"
      ]
    },
    {
      "cell_type": "code",
      "execution_count": 49,
      "metadata": {
        "id": "2MJphXO8RstU",
        "outputId": "4fc315b4-4d81-48cc-fa54-be5742e5bbb2",
        "colab": {
          "base_uri": "https://localhost:8080/"
        }
      },
      "outputs": [
        {
          "output_type": "execute_result",
          "data": {
            "text/plain": [
              "<tf.Tensor: shape=(5, 10), dtype=float32, numpy=\n",
              "array([[3.51604467e-05, 1.78437593e-04, 1.28549209e-05, 6.04489969e-06,\n",
              "        2.53507849e-02, 5.26794156e-06, 9.74271595e-01, 1.07076439e-05,\n",
              "        1.08559594e-04, 2.06098230e-05],\n",
              "       [1.86698837e-03, 2.70648336e-04, 5.95588237e-04, 1.33577362e-01,\n",
              "        4.02073638e-05, 7.86623452e-03, 1.17768512e-04, 2.25762360e-05,\n",
              "        1.06537521e-01, 7.49105036e-01],\n",
              "       [7.38052449e-06, 3.34192328e-06, 4.60941328e-06, 9.98464644e-01,\n",
              "        1.59500004e-08, 1.20326680e-04, 2.87328180e-06, 2.15469322e-06,\n",
              "        2.51475663e-04, 1.14318798e-03],\n",
              "       [2.45032948e-04, 5.39562944e-03, 6.04719389e-04, 8.61695502e-03,\n",
              "        2.62226327e-03, 1.52673561e-03, 8.48963333e-04, 9.76886749e-01,\n",
              "        1.73812895e-03, 1.51482061e-03],\n",
              "       [1.44455616e-05, 1.33355462e-03, 9.88284767e-01, 2.54580344e-04,\n",
              "        4.67917438e-09, 9.38690428e-05, 3.18423226e-05, 6.55628014e-08,\n",
              "        9.98587254e-03, 1.02387048e-06]], dtype=float32)>"
            ]
          },
          "metadata": {},
          "execution_count": 49
        }
      ],
      "source": [
        "predictions_tf = model(X_test)\n",
        "predictions_tf[:5]"
      ]
    },
    {
      "cell_type": "code",
      "execution_count": 50,
      "metadata": {
        "id": "sttp6fZXRstV",
        "outputId": "794084df-2dad-42fa-b027-2d31ab5e57e2",
        "colab": {
          "base_uri": "https://localhost:8080/"
        }
      },
      "outputs": [
        {
          "output_type": "execute_result",
          "data": {
            "text/plain": [
              "(tensorflow.python.framework.ops.EagerTensor, TensorShape([360, 10]))"
            ]
          },
          "metadata": {},
          "execution_count": 50
        }
      ],
      "source": [
        "type(predictions_tf), predictions_tf.shape"
      ]
    },
    {
      "cell_type": "markdown",
      "metadata": {
        "id": "Bk9e951IRstV"
      },
      "source": [
        "The raw output of the model is a tensor of shape `(360, 10)`. This means that we have 360 samples, and for each sample we have 10 values. Each of these values represents the probability that the sample belongs to a given class. This means that we have 10 probabilities for each sample, and the sum of these probabilities is 1. We can confirm this by summing the probabilities for each sample:"
      ]
    },
    {
      "cell_type": "code",
      "execution_count": 51,
      "metadata": {
        "id": "IrjdKoZlRstV",
        "outputId": "638db156-4c9c-4608-a564-48bbe57bfdd6",
        "colab": {
          "base_uri": "https://localhost:8080/"
        }
      },
      "outputs": [
        {
          "output_type": "execute_result",
          "data": {
            "text/plain": [
              "<tf.Tensor: shape=(5,), dtype=float32, numpy=\n",
              "array([1.        , 0.99999994, 1.        , 1.        , 0.99999994],\n",
              "      dtype=float32)>"
            ]
          },
          "metadata": {},
          "execution_count": 51
        }
      ],
      "source": [
        "import tensorflow as tf\n",
        "\n",
        "tf.reduce_sum(predictions_tf, axis=1)[:5]"
      ]
    },
    {
      "cell_type": "markdown",
      "metadata": {
        "collapsed": false,
        "id": "wc0Lkf9fRstV"
      },
      "source": [
        "...okay, there might be a small rounding error here and there. This is to do with how floating point numbers are represented in computers, and it's not something we need to worry about for now."
      ]
    },
    {
      "cell_type": "markdown",
      "metadata": {
        "id": "oJY_ejjrRstV"
      },
      "source": [
        "We can also extract the label with the highest probability using the tensorflow API:"
      ]
    },
    {
      "cell_type": "code",
      "execution_count": 52,
      "metadata": {
        "id": "Dh27X5DkRstV",
        "outputId": "431d435a-73d3-4fe0-88d9-1ae4c878a5a4",
        "colab": {
          "base_uri": "https://localhost:8080/"
        }
      },
      "outputs": [
        {
          "output_type": "execute_result",
          "data": {
            "text/plain": [
              "<tf.Tensor: shape=(5,), dtype=int64, numpy=array([6, 9, 3, 7, 2])>"
            ]
          },
          "metadata": {},
          "execution_count": 52
        }
      ],
      "source": [
        "predicted_labels_tf = tf.argmax(predictions_tf, axis=1)\n",
        "predicted_labels_tf[:5]"
      ]
    },
    {
      "cell_type": "markdown",
      "metadata": {
        "collapsed": false,
        "id": "YJ-oAmslRstV"
      },
      "source": [
        "One helpful aspect of this approach is that we don't just get the prediction, but also a sense of how confident the model is in its prediction. To see this in practice, let's take a look at some of the predictions the model is highly confident about (i.e. a lot of the probability mass is on one class):"
      ]
    },
    {
      "cell_type": "code",
      "execution_count": 53,
      "metadata": {
        "id": "qaVbzJVqRstV",
        "outputId": "b47ea133-6a90-4dd0-ccfe-671d45dbecd7",
        "colab": {
          "base_uri": "https://localhost:8080/",
          "height": 521
        }
      },
      "outputs": [
        {
          "output_type": "display_data",
          "data": {
            "text/plain": [
              "<Figure size 600x600 with 9 Axes>"
            ],
            "image/png": "[encoded data removed]"
          },
          "metadata": {}
        }
      ],
      "source": [
        "# Get the values corresponding to the predicted labels for each sample\n",
        "predicted_values_tf = tf.reduce_max(predictions_tf, axis=1)\n",
        "\n",
        "# Get the indices of the samples with the highest predicted values\n",
        "most_confident_indices_tf = tf.argsort(predicted_values_tf, direction='DESCENDING').numpy()[:9]\n",
        "\n",
        "# Get the 9 most confident samples\n",
        "most_confident_samples_tf = X_test[most_confident_indices_tf]\n",
        "\n",
        "# Get the true labels for the 9 most confident samples\n",
        "most_confident_labels_tf = np.argmax(y_test[most_confident_indices_tf], axis=1)\n",
        "\n",
        "# Plot the 9 most confident samples\n",
        "fig, axes = plt.subplots(3, 3, figsize=(6, 6))\n",
        "\n",
        "for i, ax in enumerate(axes.flat):\n",
        "    ax.imshow(most_confident_samples_tf[i].reshape(8, 8), cmap=plt.cm.gray_r, interpolation='nearest')\n",
        "    ax.set_title(f\"{most_confident_labels_tf[i]}\")\n",
        "\n",
        "    # Removing axis labels\n",
        "    ax.set_xticks([])\n",
        "    ax.set_yticks([])\n",
        "\n",
        "plt.show()"
      ]
    },
    {
      "cell_type": "markdown",
      "metadata": {
        "id": "ExXioICERstV"
      },
      "source": [
        "## Impact of Initialization\n",
        "\n",
        "Let's study the impact of a bad initialization when training\n",
        "a deep feed forward network.\n",
        "\n",
        "By default, Keras dense layers use the \"Glorot Uniform\" initialization\n",
        "strategy to initialize the weight matrices:\n",
        "\n",
        "- each weight coefficient is randomly sampled from [-scale, scale]\n",
        "- scale is proportional to $\\frac{1}{\\sqrt{n_{in} + n_{out}}}$\n",
        "\n",
        "This strategy is known to work well to initialize deep neural networks\n",
        "with \"tanh\" or \"relu\" activation functions and then trained with\n",
        "standard SGD.\n",
        "\n",
        "To assess the impact of initialization let us plug an alternative init\n",
        "scheme into a 2 hidden layers networks with \"tanh\" activations.\n",
        "For the sake of the example let's use normal distributed weights\n",
        "with a manually adjustable scale (standard deviation) and see the\n",
        "impact the scale value:"
      ]
    },
    {
      "cell_type": "code",
      "execution_count": 54,
      "metadata": {
        "id": "N_D18a0fRstV"
      },
      "outputs": [],
      "source": [
        "from tensorflow.keras import initializers\n",
        "from tensorflow.keras import optimizers\n",
        "\n",
        "input_dim = 64\n",
        "hidden_dim = 64\n",
        "output_dim = 10\n",
        "\n",
        "normal_init = initializers.TruncatedNormal(stddev=0.01, seed=42)\n",
        "\n",
        "model = Sequential()\n",
        "model.add(Dense(hidden_dim, input_dim=input_dim, activation=\"tanh\",\n",
        "                kernel_initializer=normal_init))\n",
        "model.add(Dense(hidden_dim, activation=\"tanh\",\n",
        "                kernel_initializer=normal_init))\n",
        "model.add(Dense(output_dim, activation=\"softmax\",\n",
        "                kernel_initializer=normal_init))\n",
        "\n",
        "model.compile(optimizer=optimizers.SGD(learning_rate=0.1),\n",
        "              loss='categorical_crossentropy', metrics=['accuracy'])"
      ]
    },
    {
      "cell_type": "code",
      "execution_count": 55,
      "metadata": {
        "id": "fEOl5_8zRstW",
        "outputId": "ca5e9379-5cd7-43ad-8063-bb5ada288bc6",
        "colab": {
          "base_uri": "https://localhost:8080/"
        }
      },
      "outputs": [
        {
          "output_type": "execute_result",
          "data": {
            "text/plain": [
              "[<Dense name=dense_6, built=True>,\n",
              " <Dense name=dense_7, built=True>,\n",
              " <Dense name=dense_8, built=True>]"
            ]
          },
          "metadata": {},
          "execution_count": 55
        }
      ],
      "source": [
        "model.layers"
      ]
    },
    {
      "cell_type": "markdown",
      "metadata": {
        "id": "hrtirwrTRstW"
      },
      "source": [
        "Let's have a look at the parameters of the first layer after initialization but before any training has happened:"
      ]
    },
    {
      "cell_type": "code",
      "execution_count": 56,
      "metadata": {
        "id": "7P0wZKPiRstW",
        "outputId": "2cf5fa6e-4a01-4470-a0ea-046beed7e7a4",
        "colab": {
          "base_uri": "https://localhost:8080/"
        }
      },
      "outputs": [
        {
          "output_type": "execute_result",
          "data": {
            "text/plain": [
              "[<Variable path=sequential_2/dense_6/kernel, shape=(64, 64), dtype=float32, value=[[ 0.00015817 -0.01590087  0.00103594 ...  0.00962818  0.00624957\n",
              "    0.00994726]\n",
              "  [ 0.0081879   0.00756818 -0.00668142 ...  0.01084459 -0.00317478\n",
              "   -0.00549116]\n",
              "  [-0.00086618 -0.00287623  0.00391693 ...  0.00064558 -0.00420471\n",
              "    0.00174566]\n",
              "  ...\n",
              "  [-0.0029006  -0.0091218   0.00804327 ... -0.01407086  0.00952832\n",
              "   -0.01348555]\n",
              "  [ 0.00375078  0.00967842  0.00098119 ... -0.00413454  0.01695471\n",
              "    0.00025196]\n",
              "  [ 0.00459809  0.01223094 -0.00213172 ...  0.01246831 -0.00714749\n",
              "   -0.00868595]]>,\n",
              " <Variable path=sequential_2/dense_6/bias, shape=(64,), dtype=float32, value=[0. 0. 0. 0. 0. 0. 0. 0. 0. 0. 0. 0. 0. 0. 0. 0. 0. 0. 0. 0. 0. 0. 0. 0.\n",
              "  0. 0. 0. 0. 0. 0. 0. 0. 0. 0. 0. 0. 0. 0. 0. 0. 0. 0. 0. 0. 0. 0. 0. 0.\n",
              "  0. 0. 0. 0. 0. 0. 0. 0. 0. 0. 0. 0. 0. 0. 0. 0.]>]"
            ]
          },
          "metadata": {},
          "execution_count": 56
        }
      ],
      "source": [
        "model.layers[0].weights"
      ]
    },
    {
      "cell_type": "code",
      "execution_count": 57,
      "metadata": {
        "id": "B9vUJGSaRstW",
        "outputId": "b4fc72c1-d643-43d4-ab25-1ad6a42b3b37",
        "colab": {
          "base_uri": "https://localhost:8080/"
        }
      },
      "outputs": [
        {
          "output_type": "execute_result",
          "data": {
            "text/plain": [
              "array([[ 0.00015817, -0.01590087,  0.00103594, ...,  0.00962818,\n",
              "         0.00624957,  0.00994726],\n",
              "       [ 0.0081879 ,  0.00756818, -0.00668142, ...,  0.01084459,\n",
              "        -0.00317478, -0.00549116],\n",
              "       [-0.00086618, -0.00287623,  0.00391693, ...,  0.00064558,\n",
              "        -0.00420471,  0.00174566],\n",
              "       ...,\n",
              "       [-0.0029006 , -0.0091218 ,  0.00804327, ..., -0.01407086,\n",
              "         0.00952832, -0.01348555],\n",
              "       [ 0.00375078,  0.00967842,  0.00098119, ..., -0.00413454,\n",
              "         0.01695471,  0.00025196],\n",
              "       [ 0.00459809,  0.01223094, -0.00213172, ...,  0.01246831,\n",
              "        -0.00714749, -0.00868595]], dtype=float32)"
            ]
          },
          "metadata": {},
          "execution_count": 57
        }
      ],
      "source": [
        "w = model.layers[0].weights[0].numpy()\n",
        "w"
      ]
    },
    {
      "cell_type": "code",
      "execution_count": 58,
      "metadata": {
        "id": "OPQRPUjlRstW",
        "outputId": "d0473cbb-0a6e-4cc1-dace-202a53137c13",
        "colab": {
          "base_uri": "https://localhost:8080/"
        }
      },
      "outputs": [
        {
          "output_type": "execute_result",
          "data": {
            "text/plain": [
              "0.008835949"
            ]
          },
          "metadata": {},
          "execution_count": 58
        }
      ],
      "source": [
        "w.std()"
      ]
    },
    {
      "cell_type": "code",
      "execution_count": 59,
      "metadata": {
        "id": "Ro_xp_ITRstW",
        "outputId": "2eb1f091-12e8-4847-f1e0-ec85046743cb",
        "colab": {
          "base_uri": "https://localhost:8080/"
        }
      },
      "outputs": [
        {
          "output_type": "execute_result",
          "data": {
            "text/plain": [
              "array([0., 0., 0., 0., 0., 0., 0., 0., 0., 0., 0., 0., 0., 0., 0., 0., 0.,\n",
              "       0., 0., 0., 0., 0., 0., 0., 0., 0., 0., 0., 0., 0., 0., 0., 0., 0.,\n",
              "       0., 0., 0., 0., 0., 0., 0., 0., 0., 0., 0., 0., 0., 0., 0., 0., 0.,\n",
              "       0., 0., 0., 0., 0., 0., 0., 0., 0., 0., 0., 0., 0.], dtype=float32)"
            ]
          },
          "metadata": {},
          "execution_count": 59
        }
      ],
      "source": [
        "b = model.layers[0].weights[1].numpy()\n",
        "b"
      ]
    },
    {
      "cell_type": "code",
      "execution_count": 60,
      "metadata": {
        "id": "jv9DJPDmRstW",
        "outputId": "3b331e29-a080-447b-9fa3-834aa6542512",
        "colab": {
          "base_uri": "https://localhost:8080/",
          "height": 907
        }
      },
      "outputs": [
        {
          "output_type": "stream",
          "name": "stdout",
          "text": [
            "Epoch 1/15\n",
            "\u001b[1m45/45\u001b[0m \u001b[32m━━━━━━━━━━━━━━━━━━━━\u001b[0m\u001b[37m\u001b[0m \u001b[1m1s\u001b[0m 2ms/step - accuracy: 0.1376 - loss: 2.2978\n",
            "Epoch 2/15\n",
            "\u001b[1m45/45\u001b[0m \u001b[32m━━━━━━━━━━━━━━━━━━━━\u001b[0m\u001b[37m\u001b[0m \u001b[1m0s\u001b[0m 2ms/step - accuracy: 0.4263 - loss: 1.9475\n",
            "Epoch 3/15\n",
            "\u001b[1m45/45\u001b[0m \u001b[32m━━━━━━━━━━━━━━━━━━━━\u001b[0m\u001b[37m\u001b[0m \u001b[1m0s\u001b[0m 2ms/step - accuracy: 0.6551 - loss: 1.1629\n",
            "Epoch 4/15\n",
            "\u001b[1m45/45\u001b[0m \u001b[32m━━━━━━━━━━━━━━━━━━━━\u001b[0m\u001b[37m\u001b[0m \u001b[1m0s\u001b[0m 2ms/step - accuracy: 0.8089 - loss: 0.6696\n",
            "Epoch 5/15\n",
            "\u001b[1m45/45\u001b[0m \u001b[32m━━━━━━━━━━━━━━━━━━━━\u001b[0m\u001b[37m\u001b[0m \u001b[1m0s\u001b[0m 2ms/step - accuracy: 0.9198 - loss: 0.3317\n",
            "Epoch 6/15\n",
            "\u001b[1m45/45\u001b[0m \u001b[32m━━━━━━━━━━━━━━━━━━━━\u001b[0m\u001b[37m\u001b[0m \u001b[1m0s\u001b[0m 2ms/step - accuracy: 0.9709 - loss: 0.1813\n",
            "Epoch 7/15\n",
            "\u001b[1m45/45\u001b[0m \u001b[32m━━━━━━━━━━━━━━━━━━━━\u001b[0m\u001b[37m\u001b[0m \u001b[1m0s\u001b[0m 2ms/step - accuracy: 0.9643 - loss: 0.1615\n",
            "Epoch 8/15\n",
            "\u001b[1m45/45\u001b[0m \u001b[32m━━━━━━━━━━━━━━━━━━━━\u001b[0m\u001b[37m\u001b[0m \u001b[1m0s\u001b[0m 2ms/step - accuracy: 0.9626 - loss: 0.1576\n",
            "Epoch 9/15\n",
            "\u001b[1m45/45\u001b[0m \u001b[32m━━━━━━━━━━━━━━━━━━━━\u001b[0m\u001b[37m\u001b[0m \u001b[1m0s\u001b[0m 2ms/step - accuracy: 0.9747 - loss: 0.1231\n",
            "Epoch 10/15\n",
            "\u001b[1m45/45\u001b[0m \u001b[32m━━━━━━━━━━━━━━━━━━━━\u001b[0m\u001b[37m\u001b[0m \u001b[1m0s\u001b[0m 2ms/step - accuracy: 0.9694 - loss: 0.1443\n",
            "Epoch 11/15\n",
            "\u001b[1m45/45\u001b[0m \u001b[32m━━━━━━━━━━━━━━━━━━━━\u001b[0m\u001b[37m\u001b[0m \u001b[1m0s\u001b[0m 2ms/step - accuracy: 0.9777 - loss: 0.0849\n",
            "Epoch 12/15\n",
            "\u001b[1m45/45\u001b[0m \u001b[32m━━━━━━━━━━━━━━━━━━━━\u001b[0m\u001b[37m\u001b[0m \u001b[1m0s\u001b[0m 2ms/step - accuracy: 0.9867 - loss: 0.0764\n",
            "Epoch 13/15\n",
            "\u001b[1m45/45\u001b[0m \u001b[32m━━━━━━━━━━━━━━━━━━━━\u001b[0m\u001b[37m\u001b[0m \u001b[1m0s\u001b[0m 3ms/step - accuracy: 0.9935 - loss: 0.0480\n",
            "Epoch 14/15\n",
            "\u001b[1m45/45\u001b[0m \u001b[32m━━━━━━━━━━━━━━━━━━━━\u001b[0m\u001b[37m\u001b[0m \u001b[1m0s\u001b[0m 2ms/step - accuracy: 0.9933 - loss: 0.0390\n",
            "Epoch 15/15\n",
            "\u001b[1m45/45\u001b[0m \u001b[32m━━━━━━━━━━━━━━━━━━━━\u001b[0m\u001b[37m\u001b[0m \u001b[1m0s\u001b[0m 2ms/step - accuracy: 0.9945 - loss: 0.0386\n"
          ]
        },
        {
          "output_type": "display_data",
          "data": {
            "text/plain": [
              "<Figure size 1200x400 with 1 Axes>"
            ],
            "image/png": "[encoded data removed]"
          },
          "metadata": {}
        }
      ],
      "source": [
        "history = model.fit(X_train, y_train, epochs=15, batch_size=32)\n",
        "\n",
        "plt.figure(figsize=(12, 4))\n",
        "plt.plot(history.history['loss'], label=\"Truncated Normal init\")\n",
        "plt.legend();"
      ]
    },
    {
      "cell_type": "markdown",
      "metadata": {
        "id": "dqvO-TnnRstW"
      },
      "source": [
        "Once the model has been fit, the weights have been updated and notably the biases are no longer 0:"
      ]
    },
    {
      "cell_type": "code",
      "execution_count": 61,
      "metadata": {
        "id": "9aDeT-s5RstW",
        "outputId": "06049e0f-6957-43f3-beb9-55fae525a59b",
        "colab": {
          "base_uri": "https://localhost:8080/"
        }
      },
      "outputs": [
        {
          "output_type": "execute_result",
          "data": {
            "text/plain": [
              "[<Variable path=sequential_2/dense_6/kernel, shape=(64, 64), dtype=float32, value=[[ 1.58170762e-04 -1.59008689e-02  1.03594456e-03 ...  9.62818228e-03\n",
              "    6.24957308e-03  9.94726177e-03]\n",
              "  [ 1.57147665e-02 -1.13055296e-02 -6.65954174e-03 ... -9.83042410e-04\n",
              "   -1.77571177e-02 -2.83218715e-02]\n",
              "  [ 4.73682992e-02 -1.17561653e-01 -4.69084047e-02 ... -2.06146277e-02\n",
              "   -1.22329600e-01  3.91911790e-02]\n",
              "  ...\n",
              "  [-9.98279918e-03 -3.33961956e-02  1.21970564e-01 ... -9.53262374e-02\n",
              "    7.47064427e-02 -1.80728227e-01]\n",
              "  [ 1.94286332e-02 -5.16708829e-02  9.90963206e-02 ... -7.37150311e-02\n",
              "    3.86633575e-02 -1.34186059e-01]\n",
              "  [ 3.10613178e-02 -5.82929933e-03  5.38443029e-02 ...  5.36747165e-02\n",
              "    2.07277667e-02 -5.23391142e-02]]>,\n",
              " <Variable path=sequential_2/dense_6/bias, shape=(64,), dtype=float32, value=[-1.9080640e-04 -3.3607581e-03  7.1754912e-05 -4.5137499e-03\n",
              "  -6.3700560e-03  8.1214475e-06 -1.7470836e-04  3.9818831e-04\n",
              "  -1.8696477e-04 -7.0791098e-04 -7.9730191e-05 -7.7983149e-04\n",
              "   3.3636610e-03  7.2874059e-04  3.0036157e-03 -3.2060570e-03\n",
              "   5.1704259e-03  8.9144747e-04 -1.7021968e-03 -5.3668623e-03\n",
              "   6.2191189e-05  4.7048883e-04  2.6651924e-03  7.7268411e-04\n",
              "   6.0646506e-03 -8.5501495e-04 -3.4086942e-03  7.7114155e-04\n",
              "   6.0755038e-04  3.4377642e-04  4.8107319e-03 -7.5478555e-04\n",
              "   6.6803634e-04  4.2048590e-03  3.2518018e-04 -6.6433114e-04\n",
              "  -2.8164906e-04  1.0099137e-03  7.9916848e-04 -3.5239188e-03\n",
              "   3.2930251e-03 -4.7419255e-04  2.4403222e-03  3.3370664e-04\n",
              "   8.7524648e-04  1.5383537e-03  8.9759231e-03 -4.1369973e-03\n",
              "   1.4985484e-03  1.6821558e-03  4.6062665e-03 -2.7694223e-03\n",
              "  -6.2597962e-03 -4.2112116e-03 -6.6016247e-03 -4.1882959e-03\n",
              "   2.8657163e-03  1.0944958e-03 -4.2428612e-05  9.9850923e-04\n",
              "  -1.6646929e-03  6.2248128e-04 -6.0055917e-03  8.9181063e-04]>]"
            ]
          },
          "metadata": {},
          "execution_count": 61
        }
      ],
      "source": [
        "model.layers[0].weights"
      ]
    },
    {
      "cell_type": "markdown",
      "metadata": {
        "id": "3lDWViBLRstW"
      },
      "source": [
        "#### Questions:\n",
        "\n",
        "- Try the following initialization schemes and see whether\n",
        "  the SGD algorithm can successfully train the network or\n",
        "  not:\n",
        "  \n",
        "  - a very small e.g. `stddev=1e-3`\n",
        "  - a larger scale e.g. `stddev=1` or `10`\n",
        "  - initialize all weights to 0 (constant initialization)\n",
        "  \n",
        "- What do you observe? Can you find an explanation for those\n",
        "  outcomes?\n",
        "\n",
        "- Are more advanced solvers such as SGD with momentum or Adam able\n",
        "  to deal better with such bad initializations?"
      ]
    },
    {
      "cell_type": "code",
      "execution_count": 74,
      "metadata": {
        "id": "ZVw99t3NRstW",
        "outputId": "f5a983f7-e067-43bd-a163-bc60657df659",
        "colab": {
          "base_uri": "https://localhost:8080/",
          "height": 424
        }
      },
      "outputs": [
        {
          "output_type": "stream",
          "name": "stderr",
          "text": [
            "/usr/local/lib/python3.11/dist-packages/keras/src/layers/core/dense.py:87: UserWarning: Do not pass an `input_shape`/`input_dim` argument to a layer. When using Sequential models, prefer using an `Input(shape)` object as the first layer in the model instead.\n",
            "  super().__init__(activity_regularizer=activity_regularizer, **kwargs)\n"
          ]
        },
        {
          "output_type": "display_data",
          "data": {
            "text/plain": [
              "<Figure size 1200x400 with 1 Axes>"
            ],
            "image/png": "[encoded data removed]"
          },
          "metadata": {}
        }
      ],
      "source": [
        "# Your code here\n",
        "\n",
        "input_dim = 64\n",
        "hidden_dim = 64\n",
        "output_dim = 10\n",
        "\n",
        "normal_init = initializers.TruncatedNormal(stddev=1e-3, seed=42)\n",
        "\n",
        "#very large initialization weights\n",
        "large_init = initializers.TruncatedNormal(stddev=1, seed=42)\n",
        "\n",
        "#zero initialization\n",
        "zero_init = initializers.Zeros()\n",
        "\n",
        "\n",
        "model_small = Sequential()\n",
        "model_small.add(Dense(hidden_dim, input_dim=input_dim, activation=\"tanh\",\n",
        "                kernel_initializer=normal_init))\n",
        "model_small.add(Dense(hidden_dim, activation=\"tanh\",\n",
        "                kernel_initializer=normal_init))\n",
        "model_small.add(Dense(output_dim, activation=\"softmax\",\n",
        "                kernel_initializer=normal_init))\n",
        "\n",
        "\n",
        "model_large = Sequential()\n",
        "model_large.add(Dense(hidden_dim, input_dim=input_dim, activation=\"tanh\",\n",
        "                kernel_initializer=large_init))\n",
        "model_large.add(Dense(hidden_dim, activation=\"tanh\",\n",
        "                kernel_initializer=large_init))\n",
        "model_large.add(Dense(output_dim, activation=\"softmax\",\n",
        "                kernel_initializer=large_init))\n",
        "\n",
        "model_zero = Sequential()\n",
        "model_zero.add(Dense(hidden_dim, input_dim=input_dim, activation=\"tanh\",\n",
        "                kernel_initializer=zero_init))\n",
        "model_zero.add(Dense(hidden_dim, activation=\"tanh\",\n",
        "                kernel_initializer=zero_init))\n",
        "model_zero.add(Dense(output_dim, activation=\"softmax\",\n",
        "                kernel_initializer=zero_init))\n",
        "\n",
        "\n",
        "\n",
        "model_small.compile(optimizer=optimizers.SGD(learning_rate=0.1),\n",
        "              loss='categorical_crossentropy', metrics=['accuracy'])\n",
        "\n",
        "\n",
        "model_large.compile(optimizer=optimizers.SGD(learning_rate=0.1),\n",
        "              loss='categorical_crossentropy', metrics=['accuracy'])\n",
        "\n",
        "\n",
        "model_zero.compile(optimizer=optimizers.SGD(learning_rate=0.1),\n",
        "              loss='categorical_crossentropy', metrics=['accuracy'])\n",
        "\n",
        "history_small = model_small.fit(X_train, y_train, epochs=15, batch_size=32, verbose=0)\n",
        "history_large = model_large.fit(X_train, y_train, epochs=15, batch_size=32, verbose=0)\n",
        "history_zero = model_zero.fit(X_train, y_train, epochs=15, batch_size=32, verbose=0)\n",
        "\n",
        "plt.figure(figsize=(12, 4))\n",
        "plt.plot(history.history['loss'], label=\"Normal init\")\n",
        "plt.plot(history_small.history['loss'], label=\"Small init\")\n",
        "plt.plot(history_large.history['loss'], label=\"Large init\")\n",
        "plt.plot(history_zero.history['loss'], label=\"Zero init\")\n",
        "plt.legend();\n",
        "\n"
      ]
    }
  ],
  "metadata": {
    "file_extension": ".py",
    "kernelspec": {
      "display_name": "lab_1",
      "language": "python",
      "name": "python3"
    },
    "language_info": {
      "codemirror_mode": {
        "name": "ipython",
        "version": 3
      },
      "file_extension": ".py",
      "mimetype": "text/x-python",
      "name": "python",
      "nbconvert_exporter": "python",
      "pygments_lexer": "ipython3",
      "version": "3.12.9"
    },
    "mimetype": "text/x-python",
    "name": "python",
    "npconvert_exporter": "python",
    "pygments_lexer": "ipython3",
    "toc": {
      "base_numbering": 1,
      "nav_menu": {},
      "number_sections": true,
      "sideBar": true,
      "skip_h1_title": false,
      "title_cell": "Table of Contents",
      "title_sidebar": "Contents",
      "toc_cell": false,
      "toc_position": {},
      "toc_section_display": true,
      "toc_window_display": false
    },
    "version": 3,
    "colab": {
      "provenance": []
    }
  },
  "nbformat": 4,
  "nbformat_minor": 0
}